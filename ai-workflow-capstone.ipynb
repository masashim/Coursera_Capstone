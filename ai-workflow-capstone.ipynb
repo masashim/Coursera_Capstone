{
 "cells": [
  {
   "cell_type": "markdown",
   "metadata": {},
   "source": [
    "# AI-Workflow-Capstone\n",
    "\n",
    "# Outline\n",
    "Task1: Write units test for a logger and a logging API endpoint  \n",
    "Task2: Add an API endpoint for logging  \n",
    "Task3: Make sure all tests pass  \n",
    "Task4: Training models, loading models  \n",
    "Task5: Get predictions for all countries combined  \n",
    "Task6: Get predictions for a specific country  \n",
    "task7: Build the Docker image and run it  \n",
    "Task6: Test the running app"
   ]
  },
  {
   "cell_type": "code",
   "execution_count": 1,
   "metadata": {},
   "outputs": [],
   "source": [
    "import os\n",
    "import sys\n",
    "import csv\n",
    "import requests\n",
    "from collections import Counter\n",
    "from datetime import date\n",
    "from ast import literal_eval\n",
    "import numpy as np\n",
    "import pandas as pd\n",
    "import matplotlib.pyplot as plt\n",
    "\n",
    "%matplotlib inline"
   ]
  },
  {
   "cell_type": "markdown",
   "metadata": {},
   "source": [
    "## Task1: Write units test for a logger and a logging API endpoint"
   ]
  },
  {
   "cell_type": "code",
   "execution_count": 2,
   "metadata": {},
   "outputs": [
    {
     "name": "stdout",
     "output_type": "stream",
     "text": [
      "....\r\n",
      "----------------------------------------------------------------------\r\n",
      "Ran 4 tests in 0.007s\r\n",
      "\r\n",
      "OK\r\n"
     ]
    }
   ],
   "source": [
    "!python LoggerTests.py"
   ]
  },
  {
   "cell_type": "markdown",
   "metadata": {},
   "source": [
    "## Task2: Add an API endpoint for logging"
   ]
  },
  {
   "cell_type": "code",
   "execution_count": 3,
   "metadata": {},
   "outputs": [
    {
     "name": "stdout",
     "output_type": "stream",
     "text": [
      "ssss\r\n",
      "----------------------------------------------------------------------\r\n",
      "Ran 4 tests in 0.000s\r\n",
      "\r\n",
      "OK (skipped=4)\r\n"
     ]
    }
   ],
   "source": [
    "!python ApiTests.py"
   ]
  },
  {
   "cell_type": "markdown",
   "metadata": {},
   "source": [
    "## Task3: Make sure all tests pass"
   ]
  },
  {
   "cell_type": "code",
   "execution_count": 9,
   "metadata": {},
   "outputs": [
    {
     "name": "stdout",
     "output_type": "stream",
     "text": [
      "ssss....\r\n",
      "----------------------------------------------------------------------\r\n",
      "Ran 8 tests in 0.007s\r\n",
      "\r\n",
      "OK (skipped=4)\r\n"
     ]
    }
   ],
   "source": [
    "!python run-tests.py"
   ]
  },
  {
   "cell_type": "markdown",
   "metadata": {},
   "source": [
    "## Task4: Training models, loading models"
   ]
  },
  {
   "cell_type": "code",
   "execution_count": 30,
   "metadata": {
    "scrolled": true
   },
   "outputs": [
    {
     "name": "stdout",
     "output_type": "stream",
     "text": [
      "TRAINING MODELS\n",
      "... loading ts data from files\n"
     ]
    },
    {
     "name": "stderr",
     "output_type": "stream",
     "text": [
      "/Users/masashim/opt/anaconda3/lib/python3.7/site-packages/sklearn/model_selection/_search.py:823: FutureWarning: The parameter 'iid' is deprecated in 0.22 and will be removed in 0.24.\n",
      "  \"removed in 0.24.\", FutureWarning\n",
      "/Users/masashim/opt/anaconda3/lib/python3.7/site-packages/sklearn/model_selection/_search.py:823: FutureWarning: The parameter 'iid' is deprecated in 0.22 and will be removed in 0.24.\n",
      "  \"removed in 0.24.\", FutureWarning\n"
     ]
    },
    {
     "name": "stdout",
     "output_type": "stream",
     "text": [
      "... saving model: models/sl-portugal-0_1.joblib\n"
     ]
    },
    {
     "name": "stderr",
     "output_type": "stream",
     "text": [
      "/Users/masashim/opt/anaconda3/lib/python3.7/site-packages/sklearn/model_selection/_search.py:823: FutureWarning: The parameter 'iid' is deprecated in 0.22 and will be removed in 0.24.\n",
      "  \"removed in 0.24.\", FutureWarning\n",
      "/Users/masashim/opt/anaconda3/lib/python3.7/site-packages/sklearn/model_selection/_search.py:823: FutureWarning: The parameter 'iid' is deprecated in 0.22 and will be removed in 0.24.\n",
      "  \"removed in 0.24.\", FutureWarning\n"
     ]
    },
    {
     "name": "stdout",
     "output_type": "stream",
     "text": [
      "... saving model: models/sl-united_kingdom-0_1.joblib\n"
     ]
    },
    {
     "name": "stderr",
     "output_type": "stream",
     "text": [
      "/Users/masashim/opt/anaconda3/lib/python3.7/site-packages/sklearn/model_selection/_search.py:823: FutureWarning: The parameter 'iid' is deprecated in 0.22 and will be removed in 0.24.\n",
      "  \"removed in 0.24.\", FutureWarning\n",
      "/Users/masashim/opt/anaconda3/lib/python3.7/site-packages/sklearn/model_selection/_search.py:823: FutureWarning: The parameter 'iid' is deprecated in 0.22 and will be removed in 0.24.\n",
      "  \"removed in 0.24.\", FutureWarning\n"
     ]
    },
    {
     "name": "stdout",
     "output_type": "stream",
     "text": [
      "... saving model: models/sl-hong_kong-0_1.joblib\n"
     ]
    },
    {
     "name": "stderr",
     "output_type": "stream",
     "text": [
      "/Users/masashim/opt/anaconda3/lib/python3.7/site-packages/sklearn/model_selection/_search.py:823: FutureWarning: The parameter 'iid' is deprecated in 0.22 and will be removed in 0.24.\n",
      "  \"removed in 0.24.\", FutureWarning\n",
      "/Users/masashim/opt/anaconda3/lib/python3.7/site-packages/sklearn/model_selection/_search.py:823: FutureWarning: The parameter 'iid' is deprecated in 0.22 and will be removed in 0.24.\n",
      "  \"removed in 0.24.\", FutureWarning\n"
     ]
    },
    {
     "name": "stdout",
     "output_type": "stream",
     "text": [
      "... saving model: models/sl-eire-0_1.joblib\n"
     ]
    },
    {
     "name": "stderr",
     "output_type": "stream",
     "text": [
      "/Users/masashim/opt/anaconda3/lib/python3.7/site-packages/sklearn/model_selection/_search.py:823: FutureWarning: The parameter 'iid' is deprecated in 0.22 and will be removed in 0.24.\n",
      "  \"removed in 0.24.\", FutureWarning\n",
      "/Users/masashim/opt/anaconda3/lib/python3.7/site-packages/sklearn/model_selection/_search.py:823: FutureWarning: The parameter 'iid' is deprecated in 0.22 and will be removed in 0.24.\n",
      "  \"removed in 0.24.\", FutureWarning\n"
     ]
    },
    {
     "name": "stdout",
     "output_type": "stream",
     "text": [
      "... saving model: models/sl-spain-0_1.joblib\n"
     ]
    },
    {
     "name": "stderr",
     "output_type": "stream",
     "text": [
      "/Users/masashim/opt/anaconda3/lib/python3.7/site-packages/sklearn/model_selection/_search.py:823: FutureWarning: The parameter 'iid' is deprecated in 0.22 and will be removed in 0.24.\n",
      "  \"removed in 0.24.\", FutureWarning\n",
      "/Users/masashim/opt/anaconda3/lib/python3.7/site-packages/sklearn/model_selection/_search.py:823: FutureWarning: The parameter 'iid' is deprecated in 0.22 and will be removed in 0.24.\n",
      "  \"removed in 0.24.\", FutureWarning\n"
     ]
    },
    {
     "name": "stdout",
     "output_type": "stream",
     "text": [
      "... saving model: models/sl-france-0_1.joblib\n"
     ]
    },
    {
     "name": "stderr",
     "output_type": "stream",
     "text": [
      "/Users/masashim/opt/anaconda3/lib/python3.7/site-packages/sklearn/model_selection/_search.py:823: FutureWarning: The parameter 'iid' is deprecated in 0.22 and will be removed in 0.24.\n",
      "  \"removed in 0.24.\", FutureWarning\n",
      "/Users/masashim/opt/anaconda3/lib/python3.7/site-packages/sklearn/model_selection/_search.py:823: FutureWarning: The parameter 'iid' is deprecated in 0.22 and will be removed in 0.24.\n",
      "  \"removed in 0.24.\", FutureWarning\n"
     ]
    },
    {
     "name": "stdout",
     "output_type": "stream",
     "text": [
      "... saving model: models/sl-singapore-0_1.joblib\n"
     ]
    },
    {
     "name": "stderr",
     "output_type": "stream",
     "text": [
      "/Users/masashim/opt/anaconda3/lib/python3.7/site-packages/sklearn/model_selection/_search.py:823: FutureWarning: The parameter 'iid' is deprecated in 0.22 and will be removed in 0.24.\n",
      "  \"removed in 0.24.\", FutureWarning\n",
      "/Users/masashim/opt/anaconda3/lib/python3.7/site-packages/sklearn/model_selection/_search.py:823: FutureWarning: The parameter 'iid' is deprecated in 0.22 and will be removed in 0.24.\n",
      "  \"removed in 0.24.\", FutureWarning\n"
     ]
    },
    {
     "name": "stdout",
     "output_type": "stream",
     "text": [
      "... saving model: models/sl-all-0_1.joblib\n"
     ]
    },
    {
     "name": "stderr",
     "output_type": "stream",
     "text": [
      "/Users/masashim/opt/anaconda3/lib/python3.7/site-packages/sklearn/model_selection/_search.py:823: FutureWarning: The parameter 'iid' is deprecated in 0.22 and will be removed in 0.24.\n",
      "  \"removed in 0.24.\", FutureWarning\n",
      "/Users/masashim/opt/anaconda3/lib/python3.7/site-packages/sklearn/model_selection/_search.py:823: FutureWarning: The parameter 'iid' is deprecated in 0.22 and will be removed in 0.24.\n",
      "  \"removed in 0.24.\", FutureWarning\n"
     ]
    },
    {
     "name": "stdout",
     "output_type": "stream",
     "text": [
      "... saving model: models/sl-norway-0_1.joblib\n"
     ]
    },
    {
     "name": "stderr",
     "output_type": "stream",
     "text": [
      "/Users/masashim/opt/anaconda3/lib/python3.7/site-packages/sklearn/model_selection/_search.py:823: FutureWarning: The parameter 'iid' is deprecated in 0.22 and will be removed in 0.24.\n",
      "  \"removed in 0.24.\", FutureWarning\n",
      "/Users/masashim/opt/anaconda3/lib/python3.7/site-packages/sklearn/model_selection/_search.py:823: FutureWarning: The parameter 'iid' is deprecated in 0.22 and will be removed in 0.24.\n",
      "  \"removed in 0.24.\", FutureWarning\n"
     ]
    },
    {
     "name": "stdout",
     "output_type": "stream",
     "text": [
      "... saving model: models/sl-germany-0_1.joblib\n"
     ]
    },
    {
     "name": "stderr",
     "output_type": "stream",
     "text": [
      "/Users/masashim/opt/anaconda3/lib/python3.7/site-packages/sklearn/model_selection/_search.py:823: FutureWarning: The parameter 'iid' is deprecated in 0.22 and will be removed in 0.24.\n",
      "  \"removed in 0.24.\", FutureWarning\n",
      "/Users/masashim/opt/anaconda3/lib/python3.7/site-packages/sklearn/model_selection/_search.py:823: FutureWarning: The parameter 'iid' is deprecated in 0.22 and will be removed in 0.24.\n",
      "  \"removed in 0.24.\", FutureWarning\n"
     ]
    },
    {
     "name": "stdout",
     "output_type": "stream",
     "text": [
      "... saving model: models/sl-netherlands-0_1.joblib\n",
      "LOADING MODELS\n",
      "... loading ts data from files\n",
      "... models loaded:  eire,spain,germany,netherlands,france,all,portugal,united_kingdom,hong_kong,singapore,norway\n"
     ]
    }
   ],
   "source": [
    "import time,os,re,csv,sys,uuid,joblib\n",
    "from datetime import date\n",
    "from collections import defaultdict\n",
    "import numpy as np\n",
    "import pandas as pd\n",
    "from sklearn import svm\n",
    "from sklearn.model_selection import train_test_split, GridSearchCV\n",
    "from sklearn.ensemble import RandomForestRegressor\n",
    "from sklearn.metrics import mean_squared_error\n",
    "from sklearn.preprocessing import StandardScaler, OneHotEncoder\n",
    "from sklearn.pipeline import Pipeline\n",
    "\n",
    "sys.path.append(\"/Users/masashim/Downloads/ai-workflow-capstone-master/solution-guidance\")\n",
    "from logger import update_predict_log, update_train_log\n",
    "from cslib import fetch_ts, engineer_features\n",
    "\n",
    "# model specific variables (iterate the version and note with each change)\n",
    "MODEL_DIR = \"models\"\n",
    "MODEL_VERSION = 0.1\n",
    "MODEL_VERSION_NOTE = \"supervised learing model for time-series\"\n",
    "\n",
    "from flask import Flask\n",
    "app = Flask(__name__)\n",
    " \n",
    "@app.route('/')\n",
    "\n",
    "def _model_train(df,tag,test=False):\n",
    "    \"\"\"\n",
    "    example funtion to train model\n",
    "    \n",
    "    The 'test' flag when set to 'True':\n",
    "        (1) subsets the data and serializes a test version\n",
    "        (2) specifies that the use of the 'test' log file \n",
    "    \"\"\"\n",
    "\n",
    "\n",
    "    ## start timer for runtime\n",
    "    time_start = time.time()\n",
    "    \n",
    "    X,y,dates = engineer_features(df)\n",
    "\n",
    "    if test:\n",
    "        n_samples = int(np.round(0.3 * X.shape[0]))\n",
    "        subset_indices = np.random.choice(np.arange(X.shape[0]),n_samples,\n",
    "                                          replace=False).astype(int)\n",
    "        mask = np.in1d(np.arange(y.size),subset_indices)\n",
    "        y=y[mask]\n",
    "        X=X[mask]\n",
    "        dates=dates[mask]\n",
    "        \n",
    "    ## Perform a train-test split\n",
    "    X_train, X_test, y_train, y_test = train_test_split(X, y, test_size=0.25,\n",
    "                                                        shuffle=True, random_state=42)\n",
    "    ## train a random forest model\n",
    "    param_grid_rf = {\n",
    "    'rf__criterion': ['mse','mae'],\n",
    "    'rf__n_estimators': [10,15,20,25]\n",
    "    }\n",
    "\n",
    "    pipe_rf = Pipeline(steps=[('scaler', StandardScaler()),\n",
    "                              ('rf', RandomForestRegressor())])\n",
    "    \n",
    "    grid = GridSearchCV(pipe_rf, param_grid=param_grid_rf, cv=5, iid=False, n_jobs=-1)\n",
    "    grid.fit(X_train, y_train)\n",
    "    y_pred = grid.predict(X_test)\n",
    "    eval_rmse =  round(np.sqrt(mean_squared_error(y_test,y_pred)))\n",
    "    \n",
    "    ## retrain using all data\n",
    "    grid.fit(X, y)\n",
    "    model_name = re.sub(\"\\.\",\"_\",str(MODEL_VERSION))\n",
    "    if test:\n",
    "        saved_model = os.path.join(MODEL_DIR,\n",
    "                                   \"test-{}-{}.joblib\".format(tag,model_name))\n",
    "        print(\"... saving test version of model: {}\".format(saved_model))\n",
    "    else:\n",
    "        saved_model = os.path.join(MODEL_DIR,\n",
    "                                   \"sl-{}-{}.joblib\".format(tag,model_name))\n",
    "        print(\"... saving model: {}\".format(saved_model))\n",
    "        \n",
    "    joblib.dump(grid,saved_model)\n",
    "\n",
    "    m, s = divmod(time.time()-time_start, 60)\n",
    "    h, m = divmod(m, 60)\n",
    "    runtime = \"%03d:%02d:%02d\"%(h, m, s)\n",
    "\n",
    "    ## update log\n",
    "#    update_train_log(tag,(str(dates[0]),str(dates[-1])),{'rmse':eval_rmse},runtime,\n",
    "#                     MODEL_VERSION, MODEL_VERSION_NOTE,test=True)\n",
    "  \n",
    "\n",
    "def model_train(data_dir,test=False):\n",
    "    \"\"\"\n",
    "    funtion to train model given a df\n",
    "    \n",
    "    'mode' -  can be used to subset data essentially simulating a train\n",
    "    \"\"\"\n",
    "    \n",
    "    if not os.path.isdir(MODEL_DIR):\n",
    "        os.mkdir(MODEL_DIR)\n",
    "\n",
    "    if test:\n",
    "        print(\"... test flag on\")\n",
    "        print(\"...... subseting data\")\n",
    "        print(\"...... subseting countries\")\n",
    "        \n",
    "    ## fetch time-series formatted data\n",
    "    ts_data = fetch_ts(data_dir)\n",
    "\n",
    "    ## train a different model for each data sets\n",
    "    for country,df in ts_data.items():\n",
    "        \n",
    "        if test and country not in ['all','united_kingdom']:\n",
    "            continue\n",
    "        \n",
    "        _model_train(df,country,test=test)\n",
    "    \n",
    "def model_load(prefix='sl',data_dir=None,training=True):\n",
    "    \"\"\"\n",
    "    example funtion to load model\n",
    "    \n",
    "    The prefix allows the loading of different models\n",
    "    \"\"\"\n",
    "\n",
    "    if not data_dir:\n",
    "        data_dir = os.path.join(\"..\",\"cs-train\")\n",
    "    \n",
    "    models = [f for f in os.listdir(os.path.join(\".\",\"models\")) if re.search(\"sl\",f)]\n",
    "\n",
    "    if len(models) == 0:\n",
    "        raise Exception(\"Models with prefix '{}' cannot be found did you train?\".format(prefix))\n",
    "\n",
    "    all_models = {}\n",
    "    for model in models:\n",
    "        all_models[re.split(\"-\",model)[1]] = joblib.load(os.path.join(\".\",\"models\",model))\n",
    "\n",
    "    ## load data\n",
    "    ts_data = fetch_ts(data_dir)\n",
    "    all_data = {}\n",
    "    for country, df in ts_data.items():\n",
    "        X,y,dates = engineer_features(df,training=training)\n",
    "        dates = np.array([str(d) for d in dates])\n",
    "        all_data[country] = {\"X\":X,\"y\":y,\"dates\": dates}\n",
    "        \n",
    "    return(all_data, all_models)\n",
    "\n",
    "def model_predict(country,year,month,day,all_models=None,test=False):\n",
    "    \"\"\"\n",
    "    example funtion to predict from model\n",
    "    \"\"\"\n",
    "\n",
    "    ## start timer for runtime\n",
    "    time_start = time.time()\n",
    "\n",
    "    ## load model if needed\n",
    "    if not all_models:\n",
    "        all_data,all_models = model_load(training=False)\n",
    "    \n",
    "    ## input checks\n",
    "    if country not in all_models.keys():\n",
    "        raise Exception(\"ERROR (model_predict) - model for country '{}' could not be found\".format(country))\n",
    "\n",
    "    for d in [year,month,day]:\n",
    "        if re.search(\"\\D\",d):\n",
    "            raise Exception(\"ERROR (model_predict) - invalid year, month or day\")\n",
    "    \n",
    "    ## load data\n",
    "    model = all_models[country]\n",
    "    data = all_data[country]\n",
    "\n",
    "    ## check date\n",
    "    target_date = \"{}-{}-{}\".format(year,str(month).zfill(2),str(day).zfill(2))\n",
    "    print(target_date)\n",
    "\n",
    "    if target_date not in data['dates']:\n",
    "        raise Exception(\"ERROR (model_predict) - date {} not in range {}-{}\".format(target_date,\n",
    "                                                                                    data['dates'][0],\n",
    "                                                                                    data['dates'][-1]))\n",
    "    date_indx = np.where(data['dates'] == target_date)[0][0]\n",
    "    query = data['X'].iloc[[date_indx]]\n",
    "    \n",
    "    ## sainty check\n",
    "    if data['dates'].shape[0] != data['X'].shape[0]:\n",
    "        raise Exception(\"ERROR (model_predict) - dimensions mismatch\")\n",
    "\n",
    "    ## make prediction and gather data for log entry\n",
    "    y_pred = model.predict(query)\n",
    "    y_proba = None\n",
    "    if 'predict_proba' in dir(model) and 'probability' in dir(model):\n",
    "        if model.probability == True:\n",
    "            y_proba = model.predict_proba(query)\n",
    "\n",
    "\n",
    "    m, s = divmod(time.time()-time_start, 60)\n",
    "    h, m = divmod(m, 60)\n",
    "    runtime = \"%03d:%02d:%02d\"%(h, m, s)\n",
    "\n",
    "    ## update predict log\n",
    "#    update_predict_log(country,y_pred,y_proba,target_date,\n",
    "#                       runtime, MODEL_VERSION, test=test)\n",
    "    \n",
    "    return({'y_pred':y_pred,'y_proba':y_proba})\n",
    "\n",
    "if __name__ == \"__main__\":\n",
    "\n",
    "    \"\"\"\n",
    "    basic test procedure for model.py\n",
    "    \"\"\"\n",
    "\n",
    "    ## train the model\n",
    "    print(\"TRAINING MODELS\")\n",
    "    data_dir = os.path.join(\"..\",\"cs-train\")\n",
    "    model_train(data_dir,test=False)\n",
    "\n",
    "    ## load the model\n",
    "    print(\"LOADING MODELS\")\n",
    "    all_data, all_models = model_load()\n",
    "    print(\"... models loaded: \",\",\".join(all_models.keys()))"
   ]
  },
  {
   "cell_type": "markdown",
   "metadata": {},
   "source": [
    "## Task5: Get predictions for all countries combined"
   ]
  },
  {
   "cell_type": "code",
   "execution_count": 31,
   "metadata": {},
   "outputs": [
    {
     "name": "stdout",
     "output_type": "stream",
     "text": [
      "... loading ts data from files\n",
      "2018-01-05\n",
      "{'y_pred': array([184208.02866667]), 'y_proba': None}\n"
     ]
    }
   ],
   "source": [
    "## test predict\n",
    "country='all'\n",
    "year='2018'\n",
    "month='01'\n",
    "day='05'\n",
    "result = model_predict(country,year,month,day)\n",
    "print(result)"
   ]
  },
  {
   "cell_type": "markdown",
   "metadata": {},
   "source": [
    "## Task6: Get predictions for a specific country"
   ]
  },
  {
   "cell_type": "code",
   "execution_count": 18,
   "metadata": {},
   "outputs": [
    {
     "name": "stdout",
     "output_type": "stream",
     "text": [
      "... loading ts data from files\n",
      "2019-01-05\n",
      "{'y_pred': array([126140.1192]), 'y_proba': None}\n"
     ]
    }
   ],
   "source": [
    "## test predict\n",
    "country='united_kingdom'\n",
    "year='2019'\n",
    "month='01'\n",
    "day='05'\n",
    "result = model_predict(country,year,month,day)\n",
    "print(result)"
   ]
  },
  {
   "cell_type": "markdown",
   "metadata": {},
   "source": [
    "## Task7: Build the Docker image and run it"
   ]
  },
  {
   "cell_type": "markdown",
   "metadata": {},
   "source": [
    "Create the DockerFile\n",
    "\n",
    "build the image (from the directory that was created with this notebook)\n",
    " \n",
    "```bash\n",
    "    ~$ docker build -t ml-app .\n",
    "```\n",
    "\n",
    "Check that the image is there.\n",
    "\n",
    "```bash\n",
    "    ~$ docker image ls\n",
    "```\n",
    "\n",
    "Run the container\n",
    "\n",
    "```bash\n",
    "docker run -p 4000:8080 ml-app\n",
    "```"
   ]
  },
  {
   "cell_type": "markdown",
   "metadata": {},
   "source": [
    "## Task8: Test the running app\n",
    "\n",
    "First go to http://0.0.0.0:4000/ to ensure the app is running and accessible."
   ]
  },
  {
   "cell_type": "code",
   "execution_count": null,
   "metadata": {},
   "outputs": [],
   "source": []
  }
 ],
 "metadata": {
  "kernelspec": {
   "display_name": "Python 3",
   "language": "python",
   "name": "python3"
  },
  "language_info": {
   "codemirror_mode": {
    "name": "ipython",
    "version": 3
   },
   "file_extension": ".py",
   "mimetype": "text/x-python",
   "name": "python",
   "nbconvert_exporter": "python",
   "pygments_lexer": "ipython3",
   "version": "3.7.6"
  }
 },
 "nbformat": 4,
 "nbformat_minor": 4
}
